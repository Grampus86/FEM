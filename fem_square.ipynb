{
 "cells": [
  {
   "cell_type": "code",
   "execution_count": 18,
   "metadata": {},
   "outputs": [],
   "source": [
    "import numpy as np\n",
    "\n",
    "THICKNESS = 0.01\n",
    "YOUNG = 210000\n",
    "POISSON = 0\n",
    "ELEMENT_NUM_PER_ROW = 10\n",
    "ELEMENT_NUM_PER_COL = 4\n",
    "X_INCREMENT = 5\n",
    "Y_INCREMENT = 0.5\n",
    "\n",
    "# 変位拘束\n",
    "fix_disp_node = np.array([1, 12, 23, 34, 45])\n",
    "fix_disp_x = np.array([0, 0, 0, 0, 0])\n",
    "fix_disp_y = np.array([0, 0, 0, 0, 0])\n",
    "fix_force_node = np.array([11, 22, 33, 44, 55])\n",
    "fix_force = np.array([-0.0125, -0.025, -0.025, -0.025, -0.0125])\n",
    "\n",
    "\n",
    "ELEMENTS = ELEMENT_NUM_PER_ROW * ELEMENT_NUM_PER_COL\n",
    "NODE = (ELEMENT_NUM_PER_ROW+1)*(ELEMENT_NUM_PER_COL+1)\n",
    "\n",
    "INTEGRAL_POINT4 = 4\n",
    "NODE_QUAD4 = 4\n",
    "COMPONENT = 3\n",
    "DOF_NODE = 2\n",
    "DOF_TOTAL = NODE*DOF_NODE\n",
    "DOF_QUAD4 = NODE_QUAD4*DOF_NODE\n",
    "U = np.zeros(DOF_TOTAL)\n",
    "Um = np.array([False for i in range(DOF_TOTAL)])\n",
    "F = np.zeros(DOF_TOTAL)\n",
    "B = np.zeros((ELEMENTS, COMPONENT, DOF_QUAD4, INTEGRAL_POINT4))\n",
    "D = np.zeros((COMPONENT, COMPONENT))\n",
    "mat_detJ = np.zeros((ELEMENTS, INTEGRAL_POINT4))\n",
    "Ke = np.zeros((ELEMENTS, DOF_QUAD4, DOF_QUAD4))\n",
    "K = np.zeros((DOF_TOTAL, DOF_TOTAL))\n",
    "strain_ip = np.zeros((ELEMENTS, INTEGRAL_POINT4, COMPONENT))\n",
    "stress_ip = np.zeros((ELEMENTS, INTEGRAL_POINT4, COMPONENT))\n",
    "\n",
    "\n",
    "# 節点番号\n",
    "min_p1 = 1\n",
    "max_p1 = ELEMENT_NUM_PER_ROW+(ELEMENT_NUM_PER_ROW+1)*(ELEMENT_NUM_PER_COL-1)\n",
    "min_p3 = (ELEMENT_NUM_PER_ROW+1)+2\n",
    "max_p3 = NODE\n",
    "tot_row_node = ELEMENT_NUM_PER_ROW+1\n",
    "\n",
    "# 節点番号\n",
    "p1 = np.array([i for i in range(min_p1, max_p1+1)\n",
    "               if not i % (tot_row_node) == 0])\n",
    "p2 = p1+1\n",
    "p3 = np.array([i for i in range(min_p3, max_p3+1)\n",
    "               if not (i-1) % (tot_row_node) == 0])\n",
    "p4 = p3-1\n",
    "connectivity = np.array([p1, p2, p3, p4], dtype=int).T\n",
    "\n",
    "# 節点座標\n",
    "x = np.array([X_INCREMENT*(i % tot_row_node)\n",
    "              for i in range(NODE)], dtype=float)\n",
    "y = np.array([Y_INCREMENT*(i // tot_row_node)\n",
    "              for i in range(NODE)], dtype=float)\n",
    "\n",
    "\n",
    "Um[(fix_disp_node-1)*DOF_NODE] = True  # x座標\n",
    "Um[(fix_disp_node-1)*DOF_NODE+1] = True  # y座標\n",
    "\n",
    "# 拘束条件\n",
    "# x=(節点番号-1) X 節点の自由度\n",
    "# y=(節点番号-1) X 節点の自由度+1\n",
    "F[(fix_force_node-1)*DOF_NODE+1] = fix_force\n",
    "\n",
    "U[(fix_disp_node-1)*DOF_NODE] = fix_disp_x\n",
    "U[(fix_disp_node-1)*DOF_NODE+1] = fix_disp_y\n",
    "\n",
    "# 積分点座標\n",
    "ip_xi = np.array([-1/np.sqrt(3), 1/np.sqrt(3), -1/np.sqrt(3), 1/np.sqrt(3)])\n",
    "ip_et = np.array([-1/np.sqrt(3), -1/np.sqrt(3), 1/np.sqrt(3), 1/np.sqrt(3)])\n",
    "\n",
    "# 積分点重み\n",
    "ip_wi = np.array([1, 1, 1, 1])\n",
    "ip_wj = np.array([1, 1, 1, 1])\n",
    "\n",
    "\n",
    "def make_D():\n",
    "    coef = YOUNG/(1-2*POISSON)/(1+POISSON)\n",
    "    D[0] = coef*np.array([1-POISSON, POISSON, 0])\n",
    "    D[1] = coef*np.array([POISSON, 1-POISSON, 0])\n",
    "    D[2] = coef*np.array([0, 0, (1-2*POISSON)/2])\n",
    "\n",
    "\n",
    "def make_B():\n",
    "    \"Bマトリックスを作成\"\n",
    "    for e in range(ELEMENTS):\n",
    "        arr_x = x[connectivity[e]-1]\n",
    "        arr_y = y[connectivity[e]-1]\n",
    "\n",
    "        dNdXi = np.array([-(1-ip_et), (1-ip_et), (1+ip_et), -(1+ip_et)])/4\n",
    "        dNdEt = np.array([-(1-ip_xi), -(1+ip_xi), (1+ip_xi), (1-ip_xi)])/4\n",
    "\n",
    "        dXdXi = np.dot(dNdXi.T, arr_x)\n",
    "        dYdXi = np.dot(dNdXi.T, arr_y)\n",
    "        dXdEt = np.dot(dNdEt.T, arr_x)\n",
    "        dYdEt = np.dot(dNdEt.T, arr_y)\n",
    "\n",
    "        detJ = dXdXi * dYdEt - dYdXi * dXdEt\n",
    "\n",
    "        dNdX = (dNdXi*dYdEt-dNdEt*dYdXi)/detJ\n",
    "        dNdY = (-dNdXi*dXdEt+dNdEt*dXdXi)/detJ\n",
    "\n",
    "        # 要素Bマトリックスを作成\n",
    "        # Beマトリックスの１行目.dNdXを奇数列に配置\n",
    "        Be1 = np.array([np.where(i % 2 == 0, dNdX[i//2], 0)\n",
    "                        for i in range(DOF_QUAD4)])\n",
    "        # Beマトリックスの2行目.dNdYを偶数列に配置\n",
    "        Be2 = np.array([np.where(i % 2 != 0, dNdY[i//2], 0)\n",
    "                        for i in range(DOF_QUAD4)])\n",
    "        # Beマトリックスの3行目.dNdYとdNdXを交互に配置\n",
    "        Be3 = np.array([np.where(i % 2 == 0, dNdY[i//2], dNdX[i//2])\n",
    "                        for i in range(DOF_QUAD4)])\n",
    "        # 要素Bマトリックスを追加\n",
    "        Be = np.array([Be1, Be2, Be3])  # Be(COMP,DOF_QUAD4,INTEGRAL_POINT4)\n",
    "\n",
    "        # 全体Bマトリックスに追加\n",
    "        B[e] = Be\n",
    "        mat_detJ[e] = detJ\n",
    "\n",
    "\n",
    "def make_Ke():\n",
    "    for e in range(ELEMENTS):\n",
    "        for ip in range(INTEGRAL_POINT4):\n",
    "            Be_ip = B[e][:, :, ip]\n",
    "            detJ = mat_detJ[e][ip]\n",
    "\n",
    "            BtD = np.dot(Be_ip.T, D)\n",
    "            BtDB = np.dot(BtD, Be_ip)\n",
    "            wi = ip_wi[ip]\n",
    "            wj = ip_wj[ip]\n",
    "\n",
    "            Kep = BtDB * detJ * wi * wj * THICKNESS\n",
    "            Ke[e] += Kep\n",
    "\n",
    "\n",
    "def make_K():\n",
    "    for e in range(ELEMENTS):\n",
    "        for r in range(NODE_QUAD4):\n",
    "            nr = connectivity[e][r]\n",
    "            for c in range(NODE_QUAD4):\n",
    "                nc = connectivity[e][c]\n",
    "                K[nr*2-2][nc*2-2] += Ke[e][r*2][c*2]\n",
    "                K[nr*2-2][nc*2-1] += Ke[e][r*2][c*2+1]\n",
    "                K[nr*2-1][nc*2-2] += Ke[e][r*2+1][c*2]\n",
    "                K[nr*2-1][nc*2-1] += Ke[e][r*2+1][c*2+1]\n",
    "\n",
    "\n",
    "def solve_cont_known_var(A, b, x, x_flag):\n",
    "    x_flag_idx = np.where(x_flag)[0]\n",
    "    Ac = A.copy()\n",
    "    Ac[x_flag_idx, x_flag_idx] = 0\n",
    "    b -= np.sum(Ac[:, x_flag_idx]*x[x_flag_idx], axis=1)\n",
    "\n",
    "    Ac[:, x_flag_idx] = 0\n",
    "    Ac[x_flag_idx, :] = 0\n",
    "    Ac[x_flag_idx, x_flag_idx] = 1\n",
    "\n",
    "    b[x_flag_idx] = x[x_flag_idx]\n",
    "    x = np.linalg.solve(Ac, b)\n",
    "    return x\n",
    "\n",
    "\n",
    "def calc_Fr(K, U):\n",
    "    Fr = np.dot(K, U)\n",
    "    return Fr\n",
    "\n",
    "\n",
    "def calc_strain():\n",
    "    Ue = np.zeros((DOF_QUAD4))\n",
    "    for e in range(ELEMENTS):\n",
    "        for n in range(NODE_QUAD4):\n",
    "            Ue[n*2] = U[connectivity[e, n]*2-2]  # x座標\n",
    "            Ue[n*2+1] = U[connectivity[e, n]*2-1]  # y座標\n",
    "\n",
    "        for ip in range(INTEGRAL_POINT4):\n",
    "            strain_ip[e, ip] = np.dot(B[e, :, :, ip], Ue)\n",
    "\n",
    "\n",
    "def calc_stress():\n",
    "    for e in range(ELEMENTS):\n",
    "        for ip in range(INTEGRAL_POINT4):\n",
    "            stress_ip[e, ip] = np.dot(D, strain_ip[e, ip])\n",
    "\n",
    "\n",
    "make_B()\n",
    "make_D()\n",
    "make_Ke()\n",
    "make_K()\n",
    "U = solve_cont_known_var(K, F, U, Um)\n",
    "Fr = calc_Fr(K, U)\n",
    "calc_strain()\n",
    "calc_stress()"
   ]
  },
  {
   "cell_type": "code",
   "execution_count": 19,
   "metadata": {},
   "outputs": [
    {
     "data": {
      "image/png": "[encoded data removed]",
      "text/plain": [
       "<Figure size 432x288 with 1 Axes>"
      ]
     },
     "metadata": {
      "needs_background": "light"
     },
     "output_type": "display_data"
    }
   ],
   "source": [
    "import matplotlib.pyplot as plt\n",
    "for i in np.array([1,12,23,34,45]):\n",
    "    node = np.array([i for i in range(i, i+10+1)])\n",
    "    plt.scatter(x[node-1], U[(node-1)*DOF_NODE+1])"
   ]
  },
  {
   "cell_type": "code",
   "execution_count": 20,
   "metadata": {},
   "outputs": [
    {
     "data": {
      "text/plain": [
       "<matplotlib.collections.PathCollection at 0x7ff15f73ea90>"
      ]
     },
     "execution_count": 20,
     "metadata": {},
     "output_type": "execute_result"
    },
    {
     "data": {
      "image/png": "[encoded data removed]",
      "text/plain": [
       "<Figure size 432x288 with 1 Axes>"
      ]
     },
     "metadata": {
      "needs_background": "light"
     },
     "output_type": "display_data"
    }
   ],
   "source": [
    "xc = x.copy()\n",
    "yc = y.copy()\n",
    "for i in np.array([1, 12, 23, 34, 45]):\n",
    "    node = np.array([i for i in range(i, i+10+1)])\n",
    "    yc[node-1] += U[(node-1)*DOF_NODE+1]\n",
    "    xc[node-1] += U[(node-1)*DOF_NODE]\n",
    "plt.scatter(x,y)\n",
    "plt.scatter(xc,yc)"
   ]
  },
  {
   "cell_type": "code",
   "execution_count": 27,
   "metadata": {},
   "outputs": [
    {
     "data": {
      "text/plain": [
       "(40, 4, 3)"
      ]
     },
     "execution_count": 27,
     "metadata": {},
     "output_type": "execute_result"
    }
   ],
   "source": [
    "stress_ip.shape"
   ]
  },
  {
   "cell_type": "code",
   "execution_count": 25,
   "metadata": {},
   "outputs": [
    {
     "data": {
      "text/plain": [
       "array([ 2,  3, 14, 13])"
      ]
     },
     "execution_count": 25,
     "metadata": {},
     "output_type": "execute_result"
    }
   ],
   "source": [
    "connectivity[1]"
   ]
  }
 ],
 "metadata": {
  "kernelspec": {
   "display_name": "Python 3",
   "language": "python",
   "name": "python3"
  },
  "language_info": {
   "codemirror_mode": {
    "name": "ipython",
    "version": 3
   },
   "file_extension": ".py",
   "mimetype": "text/x-python",
   "name": "python",
   "nbconvert_exporter": "python",
   "pygments_lexer": "ipython3",
   "version": "3.8.3"
  }
 },
 "nbformat": 4,
 "nbformat_minor": 4
}
